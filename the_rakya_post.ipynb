{
 "cells": [
  {
   "cell_type": "code",
   "execution_count": 1,
   "metadata": {},
   "outputs": [],
   "source": [
    "from datetime import datetime\n",
    "from bs4 import BeautifulSoup\n",
    "from selenium import webdriver\n",
    "from selenium.webdriver.chrome.service import Service\n",
    "from webdriver_manager.chrome import ChromeDriverManager\n",
    "import csv\n",
    "import time"
   ]
  },
  {
   "cell_type": "code",
   "execution_count": 2,
   "metadata": {},
   "outputs": [
    {
     "name": "stdout",
     "output_type": "stream",
     "text": [
      "Links we obtained: 60\n",
      "link_with_date we obtained: 60\n"
     ]
    }
   ],
   "source": [
    "driver = webdriver.Chrome(service=Service(ChromeDriverManager().install()))\n",
    "\n",
    "# url to scrape \n",
    "url = 'https://www.therakyatpost.com/?s=vaksin'\n",
    "driver.get(url)\n",
    "\n",
    "# Scroll to the bottom of the page and wait for a few seconds for the page to load\n",
    "while True:\n",
    "    # Scroll to the bottom of the page\n",
    "    driver.execute_script(\"window.scrollTo(0, document.body.scrollHeight);\")\n",
    "\n",
    "    # Wait for the page to load\n",
    "    time.sleep(5)\n",
    "\n",
    "    # Check if we have reached the bottom of the page\n",
    "    scroll_position = driver.execute_script(\"return window.pageYOffset;\")\n",
    "    page_height = driver.execute_script(\"return document.body.scrollHeight;\")\n",
    "\n",
    "    # The position for the end of page, if it is reached, quit browser\n",
    "    # page_height > scroll_height also work\n",
    "    if (page_height > scroll_position):\n",
    "        break\n",
    "\n",
    "page_source = driver.page_source\n",
    "# Close the browser  \n",
    "driver.quit()\n",
    "\n",
    "soup = BeautifulSoup(page_source, 'html.parser')\n",
    "\n",
    "links = soup.find_all('div', attrs={'class':'post-title'})\n",
    "print(f'Links we obtained: {len(links)}')\n",
    "\n",
    "link_date = soup.find_all('li', attrs={'class':'post-date'})\n",
    "print(f'link_with_date we obtained: {len(links)}')"
   ]
  },
  {
   "cell_type": "code",
   "execution_count": 3,
   "metadata": {},
   "outputs": [
    {
     "name": "stdout",
     "output_type": "stream",
     "text": [
      "CSV file saved successfully\n"
     ]
    }
   ],
   "source": [
    "# Writing to a file \n",
    "with open('the_rakya_post.csv', 'w', newline='') as f:\n",
    "    writer = csv.writer(f)\n",
    "    headers = [\"Article_Title\", \"Date\", \"Link\"]\n",
    "    writer.writerow(headers)\n",
    "\n",
    "    for link, date in zip(links, link_date):\n",
    "        # in div tag, go in and search for 'a' tags\n",
    "        # Ex: Warga Emas 60 Tahun & Ke Atas Digesa Ambil Suntikan Vaksin Influenza\n",
    "        article_title = link.find('a').text\n",
    "\n",
    "        # Ex: September 8, 2022 \n",
    "        date = date.text \n",
    "\n",
    "        # Ex: 2022-09-08 00:00:00 --> 2022-09-08\n",
    "        dateobj = datetime.strptime(date, '%B %d, %Y').date()\n",
    "\n",
    "        # in a's tag, get its link\n",
    "        Link = link.find('a')['href']\n",
    "\n",
    "        writer.writerow([article_title, dateobj, Link])\n",
    "\n",
    "    print('CSV file saved successfully')\n"
   ]
  },
  {
   "cell_type": "code",
   "execution_count": null,
   "metadata": {},
   "outputs": [],
   "source": []
  },
  {
   "cell_type": "code",
   "execution_count": null,
   "metadata": {},
   "outputs": [],
   "source": []
  },
  {
   "cell_type": "code",
   "execution_count": null,
   "metadata": {},
   "outputs": [],
   "source": []
  },
  {
   "cell_type": "code",
   "execution_count": null,
   "metadata": {},
   "outputs": [],
   "source": []
  },
  {
   "cell_type": "code",
   "execution_count": null,
   "metadata": {},
   "outputs": [],
   "source": []
  }
 ],
 "metadata": {
  "kernelspec": {
   "display_name": "Python 3",
   "language": "python",
   "name": "python3"
  },
  "language_info": {
   "codemirror_mode": {
    "name": "ipython",
    "version": 3
   },
   "file_extension": ".py",
   "mimetype": "text/x-python",
   "name": "python",
   "nbconvert_exporter": "python",
   "pygments_lexer": "ipython3",
   "version": "3.11.1"
  },
  "orig_nbformat": 4
 },
 "nbformat": 4,
 "nbformat_minor": 2
}
